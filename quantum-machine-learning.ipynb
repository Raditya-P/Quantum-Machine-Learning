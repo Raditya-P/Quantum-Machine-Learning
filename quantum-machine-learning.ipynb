{
 "cells": [
  {
   "cell_type": "markdown",
   "id": "1e834877",
   "metadata": {
    "papermill": {
     "duration": 0.007294,
     "end_time": "2024-01-29T19:00:07.256088",
     "exception": false,
     "start_time": "2024-01-29T19:00:07.248794",
     "status": "completed"
    },
    "tags": []
   },
   "source": [
    "# **<center>Quantum Machine Learning🤖<center>**\n",
    "# **<center>Unleashing Quantum Mechanics⚛️ To Turbocharge⚡Computations And Revolutionize Data Processing.<center>**"
   ]
  },
  {
   "cell_type": "markdown",
   "id": "7577bdf9",
   "metadata": {
    "papermill": {
     "duration": 0.006807,
     "end_time": "2024-01-29T19:00:07.270059",
     "exception": false,
     "start_time": "2024-01-29T19:00:07.263252",
     "status": "completed"
    },
    "tags": []
   },
   "source": [
    "Quantum Machine Learning (QML) is an interdisciplinary field that combines principles from quantum physics and machine learning to develop algorithms capable of processing information using quantum computers. Unlike classical computers that use bits, which can be either 0 or 1, quantum computers use quantum bits or qubits, which can exist in multiple states simultaneously due to superposition. QML aims to exploit this superposition property and other quantum phenomena to enhance the efficiency and speed of certain machine learning tasks, offering the potential for exponential computational advantages in specific applications."
   ]
  },
  {
   "cell_type": "markdown",
   "id": "6a646ebb",
   "metadata": {
    "papermill": {
     "duration": 0.006597,
     "end_time": "2024-01-29T19:00:07.283498",
     "exception": false,
     "start_time": "2024-01-29T19:00:07.276901",
     "status": "completed"
    },
    "tags": []
   },
   "source": [
    "## **Advantages of Quantum Machine Learning:**\n",
    "Quantum Machine Learning (QML) offers several potential advantages, although it's important to note that the field is still in its **early stages** of development. Some key advantages include:\n",
    "\n",
    "1. **Quantum Speedup:** Quantum computers have the potential to provide exponential speedup for certain tasks compared to classical computers. This speedup is particularly advantageous for solving complex optimization problems and linear algebra tasks, which are common in machine learning.\n",
    "\n",
    "2. **Enhanced Parallelism:** Quantum algorithms can process and analyze information in parallel due to the principles of superposition and entanglement. This parallelism can lead to faster computations, especially for large-scale datasets and complex models.\n",
    "\n",
    "3. **Feature Mapping:** Quantum algorithms can efficiently handle high-dimensional feature spaces through techniques like quantum feature mapping. This can be beneficial for processing complex data with a large number of features, as is often encountered in machine learning applications.\n",
    "\n",
    "4. **Potential for New Algorithms:** Quantum computing allows for the exploration and development of entirely new algorithms designed to leverage the unique properties of quantum systems. These algorithms could outperform classical counterparts in specific tasks.\n",
    "\n",
    "5. **Improved Optimization:** Quantum computers could enhance optimization tasks crucial for machine learning, such as parameter tuning and training deep neural networks. Quantum optimization algorithms may outperform classical counterparts for certain optimization landscapes.\n",
    "\n",
    "6. **Privacy-Preserving Machine Learning:** Quantum technologies, such as quantum key distribution, can be applied to enhance the security and privacy of machine learning models, particularly in scenarios where data privacy is a critical concern.\n"
   ]
  },
  {
   "cell_type": "markdown",
   "id": "f5197097",
   "metadata": {
    "papermill": {
     "duration": 0.006821,
     "end_time": "2024-01-29T19:00:07.297452",
     "exception": false,
     "start_time": "2024-01-29T19:00:07.290631",
     "status": "completed"
    },
    "tags": []
   },
   "source": [
    "# **Importing and Installing Library**"
   ]
  },
  {
   "cell_type": "code",
   "execution_count": 1,
   "id": "4c6cff56",
   "metadata": {
    "execution": {
     "iopub.execute_input": "2024-01-29T19:00:07.314129Z",
     "iopub.status.busy": "2024-01-29T19:00:07.313145Z",
     "iopub.status.idle": "2024-01-29T19:01:04.874318Z",
     "shell.execute_reply": "2024-01-29T19:01:04.872853Z"
    },
    "papermill": {
     "duration": 57.572785,
     "end_time": "2024-01-29T19:01:04.877139",
     "exception": false,
     "start_time": "2024-01-29T19:00:07.304354",
     "status": "completed"
    },
    "tags": []
   },
   "outputs": [
    {
     "name": "stdout",
     "output_type": "stream",
     "text": [
      "Collecting qiskit\r\n",
      "  Obtaining dependency information for qiskit from https://files.pythonhosted.org/packages/53/94/a6e81b62222cdeaa4bed854e39983afa1b52da6156d764d7b3e87b4a6791/qiskit-0.45.2-py3-none-any.whl.metadata\r\n",
      "  Downloading qiskit-0.45.2-py3-none-any.whl.metadata (12 kB)\r\n",
      "Collecting qiskit-terra==0.45.2 (from qiskit)\r\n",
      "  Obtaining dependency information for qiskit-terra==0.45.2 from https://files.pythonhosted.org/packages/da/ab/598e92af609f0ec26f43859e485b15318930ae5d0782420c8e53119e57a5/qiskit_terra-0.45.2-cp38-abi3-manylinux_2_17_x86_64.manylinux2014_x86_64.whl.metadata\r\n",
      "  Downloading qiskit_terra-0.45.2-cp38-abi3-manylinux_2_17_x86_64.manylinux2014_x86_64.whl.metadata (12 kB)\r\n",
      "Collecting rustworkx>=0.13.0 (from qiskit-terra==0.45.2->qiskit)\r\n",
      "  Obtaining dependency information for rustworkx>=0.13.0 from https://files.pythonhosted.org/packages/16/05/bcbfcb9c87c9b2c33fcb2d715f4f8de21ea1b870b148f98ba5c2c1cfc79f/rustworkx-0.14.0-cp310-cp310-manylinux_2_17_x86_64.manylinux2014_x86_64.whl.metadata\r\n",
      "  Downloading rustworkx-0.14.0-cp310-cp310-manylinux_2_17_x86_64.manylinux2014_x86_64.whl.metadata (10.0 kB)\r\n",
      "Requirement already satisfied: numpy<2,>=1.17 in /opt/conda/lib/python3.10/site-packages (from qiskit-terra==0.45.2->qiskit) (1.24.3)\r\n",
      "Collecting ply>=3.10 (from qiskit-terra==0.45.2->qiskit)\r\n",
      "  Downloading ply-3.11-py2.py3-none-any.whl (49 kB)\r\n",
      "\u001b[2K     \u001b[90m━━━━━━━━━━━━━━━━━━━━━━━━━━━━━━━━━━━━━━━━\u001b[0m \u001b[32m49.6/49.6 kB\u001b[0m \u001b[31m4.2 MB/s\u001b[0m eta \u001b[36m0:00:00\u001b[0m\r\n",
      "\u001b[?25hRequirement already satisfied: psutil>=5 in /opt/conda/lib/python3.10/site-packages (from qiskit-terra==0.45.2->qiskit) (5.9.3)\r\n",
      "Requirement already satisfied: scipy>=1.5 in /opt/conda/lib/python3.10/site-packages (from qiskit-terra==0.45.2->qiskit) (1.11.4)\r\n",
      "Requirement already satisfied: sympy>=1.3 in /opt/conda/lib/python3.10/site-packages (from qiskit-terra==0.45.2->qiskit) (1.12)\r\n",
      "Requirement already satisfied: dill>=0.3 in /opt/conda/lib/python3.10/site-packages (from qiskit-terra==0.45.2->qiskit) (0.3.7)\r\n",
      "Requirement already satisfied: python-dateutil>=2.8.0 in /opt/conda/lib/python3.10/site-packages (from qiskit-terra==0.45.2->qiskit) (2.8.2)\r\n",
      "Collecting stevedore>=3.0.0 (from qiskit-terra==0.45.2->qiskit)\r\n",
      "  Obtaining dependency information for stevedore>=3.0.0 from https://files.pythonhosted.org/packages/4b/68/e739fd061b0aba464bef8e8be48428b2aabbfb3f2f8f2f8ca257363ee6b2/stevedore-5.1.0-py3-none-any.whl.metadata\r\n",
      "  Downloading stevedore-5.1.0-py3-none-any.whl.metadata (2.2 kB)\r\n",
      "Collecting symengine!=0.10.0,>=0.9 (from qiskit-terra==0.45.2->qiskit)\r\n",
      "  Obtaining dependency information for symengine!=0.10.0,>=0.9 from https://files.pythonhosted.org/packages/a6/69/97a99ae1835810e0f3f4f471cdfcb6d886be93e4ee5688397deacab955bc/symengine-0.11.0-cp310-cp310-manylinux_2_12_x86_64.manylinux2010_x86_64.whl.metadata\r\n",
      "  Downloading symengine-0.11.0-cp310-cp310-manylinux_2_12_x86_64.manylinux2010_x86_64.whl.metadata (1.2 kB)\r\n",
      "Requirement already satisfied: typing-extensions in /opt/conda/lib/python3.10/site-packages (from qiskit-terra==0.45.2->qiskit) (4.5.0)\r\n",
      "Requirement already satisfied: six>=1.5 in /opt/conda/lib/python3.10/site-packages (from python-dateutil>=2.8.0->qiskit-terra==0.45.2->qiskit) (1.16.0)\r\n",
      "Collecting pbr!=2.1.0,>=2.0.0 (from stevedore>=3.0.0->qiskit-terra==0.45.2->qiskit)\r\n",
      "  Obtaining dependency information for pbr!=2.1.0,>=2.0.0 from https://files.pythonhosted.org/packages/64/dd/171c9fb653591cf265bcc89c436eec75c9bde3dec921cc236fa71e5698df/pbr-6.0.0-py2.py3-none-any.whl.metadata\r\n",
      "  Downloading pbr-6.0.0-py2.py3-none-any.whl.metadata (1.3 kB)\r\n",
      "Requirement already satisfied: mpmath>=0.19 in /opt/conda/lib/python3.10/site-packages (from sympy>=1.3->qiskit-terra==0.45.2->qiskit) (1.3.0)\r\n",
      "Downloading qiskit-0.45.2-py3-none-any.whl (9.6 kB)\r\n",
      "Downloading qiskit_terra-0.45.2-cp38-abi3-manylinux_2_17_x86_64.manylinux2014_x86_64.whl (6.3 MB)\r\n",
      "\u001b[2K   \u001b[90m━━━━━━━━━━━━━━━━━━━━━━━━━━━━━━━━━━━━━━━━\u001b[0m \u001b[32m6.3/6.3 MB\u001b[0m \u001b[31m60.1 MB/s\u001b[0m eta \u001b[36m0:00:00\u001b[0m\r\n",
      "\u001b[?25hDownloading rustworkx-0.14.0-cp310-cp310-manylinux_2_17_x86_64.manylinux2014_x86_64.whl (2.2 MB)\r\n",
      "\u001b[2K   \u001b[90m━━━━━━━━━━━━━━━━━━━━━━━━━━━━━━━━━━━━━━━━\u001b[0m \u001b[32m2.2/2.2 MB\u001b[0m \u001b[31m56.7 MB/s\u001b[0m eta \u001b[36m0:00:00\u001b[0m\r\n",
      "\u001b[?25hDownloading stevedore-5.1.0-py3-none-any.whl (49 kB)\r\n",
      "\u001b[2K   \u001b[90m━━━━━━━━━━━━━━━━━━━━━━━━━━━━━━━━━━━━━━━━\u001b[0m \u001b[32m49.6/49.6 kB\u001b[0m \u001b[31m3.9 MB/s\u001b[0m eta \u001b[36m0:00:00\u001b[0m\r\n",
      "\u001b[?25hDownloading symengine-0.11.0-cp310-cp310-manylinux_2_12_x86_64.manylinux2010_x86_64.whl (39.4 MB)\r\n",
      "\u001b[2K   \u001b[90m━━━━━━━━━━━━━━━━━━━━━━━━━━━━━━━━━━━━━━━━\u001b[0m \u001b[32m39.4/39.4 MB\u001b[0m \u001b[31m28.1 MB/s\u001b[0m eta \u001b[36m0:00:00\u001b[0m\r\n",
      "\u001b[?25hDownloading pbr-6.0.0-py2.py3-none-any.whl (107 kB)\r\n",
      "\u001b[2K   \u001b[90m━━━━━━━━━━━━━━━━━━━━━━━━━━━━━━━━━━━━━━━━\u001b[0m \u001b[32m107.5/107.5 kB\u001b[0m \u001b[31m9.4 MB/s\u001b[0m eta \u001b[36m0:00:00\u001b[0m\r\n",
      "\u001b[?25hInstalling collected packages: ply, symengine, rustworkx, pbr, stevedore, qiskit-terra, qiskit\r\n",
      "Successfully installed pbr-6.0.0 ply-3.11 qiskit-0.45.2 qiskit-terra-0.45.2 rustworkx-0.14.0 stevedore-5.1.0 symengine-0.11.0\r\n",
      "Collecting qiskit-aer\r\n",
      "  Obtaining dependency information for qiskit-aer from https://files.pythonhosted.org/packages/88/31/4d876cc97219eafe1af65b756043346b39aded4c40773e651324dc51e6a2/qiskit_aer-0.13.2-cp310-cp310-manylinux_2_17_x86_64.manylinux2014_x86_64.whl.metadata\r\n",
      "  Downloading qiskit_aer-0.13.2-cp310-cp310-manylinux_2_17_x86_64.manylinux2014_x86_64.whl.metadata (6.1 kB)\r\n",
      "Requirement already satisfied: qiskit>=0.45.0 in /opt/conda/lib/python3.10/site-packages (from qiskit-aer) (0.45.2)\r\n",
      "Requirement already satisfied: numpy>=1.16.3 in /opt/conda/lib/python3.10/site-packages (from qiskit-aer) (1.24.3)\r\n",
      "Requirement already satisfied: scipy>=1.0 in /opt/conda/lib/python3.10/site-packages (from qiskit-aer) (1.11.4)\r\n",
      "Requirement already satisfied: psutil>=5 in /opt/conda/lib/python3.10/site-packages (from qiskit-aer) (5.9.3)\r\n",
      "Requirement already satisfied: qiskit-terra==0.45.2 in /opt/conda/lib/python3.10/site-packages (from qiskit>=0.45.0->qiskit-aer) (0.45.2)\r\n",
      "Requirement already satisfied: rustworkx>=0.13.0 in /opt/conda/lib/python3.10/site-packages (from qiskit-terra==0.45.2->qiskit>=0.45.0->qiskit-aer) (0.14.0)\r\n",
      "Requirement already satisfied: ply>=3.10 in /opt/conda/lib/python3.10/site-packages (from qiskit-terra==0.45.2->qiskit>=0.45.0->qiskit-aer) (3.11)\r\n",
      "Requirement already satisfied: sympy>=1.3 in /opt/conda/lib/python3.10/site-packages (from qiskit-terra==0.45.2->qiskit>=0.45.0->qiskit-aer) (1.12)\r\n",
      "Requirement already satisfied: dill>=0.3 in /opt/conda/lib/python3.10/site-packages (from qiskit-terra==0.45.2->qiskit>=0.45.0->qiskit-aer) (0.3.7)\r\n",
      "Requirement already satisfied: python-dateutil>=2.8.0 in /opt/conda/lib/python3.10/site-packages (from qiskit-terra==0.45.2->qiskit>=0.45.0->qiskit-aer) (2.8.2)\r\n",
      "Requirement already satisfied: stevedore>=3.0.0 in /opt/conda/lib/python3.10/site-packages (from qiskit-terra==0.45.2->qiskit>=0.45.0->qiskit-aer) (5.1.0)\r\n",
      "Requirement already satisfied: symengine!=0.10.0,>=0.9 in /opt/conda/lib/python3.10/site-packages (from qiskit-terra==0.45.2->qiskit>=0.45.0->qiskit-aer) (0.11.0)\r\n",
      "Requirement already satisfied: typing-extensions in /opt/conda/lib/python3.10/site-packages (from qiskit-terra==0.45.2->qiskit>=0.45.0->qiskit-aer) (4.5.0)\r\n",
      "Requirement already satisfied: six>=1.5 in /opt/conda/lib/python3.10/site-packages (from python-dateutil>=2.8.0->qiskit-terra==0.45.2->qiskit>=0.45.0->qiskit-aer) (1.16.0)\r\n",
      "Requirement already satisfied: pbr!=2.1.0,>=2.0.0 in /opt/conda/lib/python3.10/site-packages (from stevedore>=3.0.0->qiskit-terra==0.45.2->qiskit>=0.45.0->qiskit-aer) (6.0.0)\r\n",
      "Requirement already satisfied: mpmath>=0.19 in /opt/conda/lib/python3.10/site-packages (from sympy>=1.3->qiskit-terra==0.45.2->qiskit>=0.45.0->qiskit-aer) (1.3.0)\r\n",
      "Downloading qiskit_aer-0.13.2-cp310-cp310-manylinux_2_17_x86_64.manylinux2014_x86_64.whl (12.3 MB)\r\n",
      "\u001b[2K   \u001b[90m━━━━━━━━━━━━━━━━━━━━━━━━━━━━━━━━━━━━━━━━\u001b[0m \u001b[32m12.3/12.3 MB\u001b[0m \u001b[31m59.2 MB/s\u001b[0m eta \u001b[36m0:00:00\u001b[0m\r\n",
      "\u001b[?25hInstalling collected packages: qiskit-aer\r\n",
      "Successfully installed qiskit-aer-0.13.2\r\n",
      "Collecting pylatexenc\r\n",
      "  Downloading pylatexenc-2.10.tar.gz (162 kB)\r\n",
      "\u001b[2K     \u001b[90m━━━━━━━━━━━━━━━━━━━━━━━━━━━━━━━━━━━━━━━\u001b[0m \u001b[32m162.6/162.6 kB\u001b[0m \u001b[31m6.6 MB/s\u001b[0m eta \u001b[36m0:00:00\u001b[0m\r\n",
      "\u001b[?25h  Preparing metadata (setup.py) ... \u001b[?25l-\b \bdone\r\n",
      "\u001b[?25hBuilding wheels for collected packages: pylatexenc\r\n",
      "  Building wheel for pylatexenc (setup.py) ... \u001b[?25l-\b \b\\\b \bdone\r\n",
      "\u001b[?25h  Created wheel for pylatexenc: filename=pylatexenc-2.10-py3-none-any.whl size=136818 sha256=73cb558a04e295ed1fcf906363bc0490c5c2bb176e76edc0c535bae8e448e3bb\r\n",
      "  Stored in directory: /root/.cache/pip/wheels/d3/31/8b/e09b0386afd80cfc556c00408c9aeea5c35c4d484a9c762fd5\r\n",
      "Successfully built pylatexenc\r\n",
      "Installing collected packages: pylatexenc\r\n",
      "Successfully installed pylatexenc-2.10\r\n"
     ]
    }
   ],
   "source": [
    "!pip install qiskit\n",
    "!pip install qiskit-aer\n",
    "!pip install pylatexenc"
   ]
  },
  {
   "cell_type": "code",
   "execution_count": 2,
   "id": "a40b6ef1",
   "metadata": {
    "execution": {
     "iopub.execute_input": "2024-01-29T19:01:04.904197Z",
     "iopub.status.busy": "2024-01-29T19:01:04.903767Z",
     "iopub.status.idle": "2024-01-29T19:01:07.077685Z",
     "shell.execute_reply": "2024-01-29T19:01:07.076642Z"
    },
    "papermill": {
     "duration": 2.190655,
     "end_time": "2024-01-29T19:01:07.080532",
     "exception": false,
     "start_time": "2024-01-29T19:01:04.889877",
     "status": "completed"
    },
    "tags": []
   },
   "outputs": [],
   "source": [
    "from sklearn import model_selection, datasets, svm\n",
    "from qiskit import QuantumCircuit, Aer, IBMQ, QuantumRegister, ClassicalRegister\n",
    "import qiskit\n",
    "import copy\n",
    "import matplotlib.pyplot as plt\n",
    "import numpy as np"
   ]
  },
  {
   "cell_type": "markdown",
   "id": "b9377cc0",
   "metadata": {
    "papermill": {
     "duration": 0.011746,
     "end_time": "2024-01-29T19:01:07.104375",
     "exception": false,
     "start_time": "2024-01-29T19:01:07.092629",
     "status": "completed"
    },
    "tags": []
   },
   "source": [
    "## **Importing and Spliting Dataset**"
   ]
  },
  {
   "cell_type": "code",
   "execution_count": 3,
   "id": "c0fdb483",
   "metadata": {
    "execution": {
     "iopub.execute_input": "2024-01-29T19:01:07.130452Z",
     "iopub.status.busy": "2024-01-29T19:01:07.129887Z",
     "iopub.status.idle": "2024-01-29T19:01:07.142771Z",
     "shell.execute_reply": "2024-01-29T19:01:07.141821Z"
    },
    "papermill": {
     "duration": 0.02914,
     "end_time": "2024-01-29T19:01:07.145389",
     "exception": false,
     "start_time": "2024-01-29T19:01:07.116249",
     "status": "completed"
    },
    "tags": []
   },
   "outputs": [],
   "source": [
    "iris = datasets.load_iris()"
   ]
  },
  {
   "cell_type": "code",
   "execution_count": 4,
   "id": "b319375b",
   "metadata": {
    "execution": {
     "iopub.execute_input": "2024-01-29T19:01:07.172664Z",
     "iopub.status.busy": "2024-01-29T19:01:07.172217Z",
     "iopub.status.idle": "2024-01-29T19:01:07.179916Z",
     "shell.execute_reply": "2024-01-29T19:01:07.178803Z"
    },
    "papermill": {
     "duration": 0.025081,
     "end_time": "2024-01-29T19:01:07.182526",
     "exception": false,
     "start_time": "2024-01-29T19:01:07.157445",
     "status": "completed"
    },
    "tags": []
   },
   "outputs": [],
   "source": [
    "X = iris.data[0:100]\n",
    "Y = iris.target[0:100]\n",
    "X_train, X_test, Y_train, Y_test = model_selection.train_test_split(X,Y,test_size=0.3,random_state=69)\n"
   ]
  },
  {
   "cell_type": "markdown",
   "id": "f22cef66",
   "metadata": {
    "papermill": {
     "duration": 0.011679,
     "end_time": "2024-01-29T19:01:07.206314",
     "exception": false,
     "start_time": "2024-01-29T19:01:07.194635",
     "status": "completed"
    },
    "tags": []
   },
   "source": [
    "## **Implementing a Basic Quantum Neural Network**"
   ]
  },
  {
   "cell_type": "code",
   "execution_count": 5,
   "id": "87cfb68c",
   "metadata": {
    "execution": {
     "iopub.execute_input": "2024-01-29T19:01:07.232520Z",
     "iopub.status.busy": "2024-01-29T19:01:07.231827Z",
     "iopub.status.idle": "2024-01-29T19:01:07.242774Z",
     "shell.execute_reply": "2024-01-29T19:01:07.241791Z"
    },
    "papermill": {
     "duration": 0.026925,
     "end_time": "2024-01-29T19:01:07.245297",
     "exception": false,
     "start_time": "2024-01-29T19:01:07.218372",
     "status": "completed"
    },
    "tags": []
   },
   "outputs": [],
   "source": [
    "# Number of features\n",
    "N = 4\n",
    "\n",
    "# Function to create the feature map quantum circuit\n",
    "def feature_map(X):\n",
    "    # Create quantum registers and classical register\n",
    "    q = QuantumRegister(N)\n",
    "    c = ClassicalRegister(1)\n",
    "    qc = QuantumCircuit(q, c)\n",
    "\n",
    "    # Apply X rotation gates based on input features\n",
    "    for i, x in enumerate(X):\n",
    "        qc.rx(x, i)\n",
    "\n",
    "    return qc, c\n",
    "\n",
    "# Function to create the variational circuit\n",
    "def variational_circuit(qc, theta):\n",
    "    # Apply entangling gates (CNOT) and Y rotation gates based on variational parameters\n",
    "    for i in range(N - 1):\n",
    "        qc.cnot(i, i + 1)\n",
    "    qc.cnot(N - 1, 0)\n",
    "    for i in range(N):\n",
    "        qc.ry(theta[i], i)\n",
    "\n",
    "    return qc\n",
    "\n",
    "# Main quantum neural network function\n",
    "def quantum_nn(X, theta):\n",
    "    # Create the quantum circuit using the feature map and variational circuit\n",
    "    qc, c = feature_map(X)\n",
    "    qc = variational_circuit(qc, theta)\n",
    "\n",
    "    # Measure the output qubit\n",
    "    qc.measure(0, c)\n",
    "\n",
    "    # Configure simulation parameters\n",
    "    shots = 1E4\n",
    "    backend = Aer.get_backend(\"qasm_simulator\")\n",
    "\n",
    "    # Execute the quantum circuit on the chosen backend\n",
    "    job = qiskit.execute(qc, backend, shots=shots)\n",
    "    result = job.result()\n",
    "\n",
    "    # Retrieve and return the probability of the output state being |1|\n",
    "    counts = result.get_counts(qc)\n",
    "    return counts[\"1\"] / shots\n"
   ]
  },
  {
   "cell_type": "markdown",
   "id": "135d3fa0",
   "metadata": {
    "papermill": {
     "duration": 0.011675,
     "end_time": "2024-01-29T19:01:07.269243",
     "exception": false,
     "start_time": "2024-01-29T19:01:07.257568",
     "status": "completed"
    },
    "tags": []
   },
   "source": [
    "## **Explanation of Code**"
   ]
  },
  {
   "cell_type": "markdown",
   "id": "7ad516fe",
   "metadata": {
    "papermill": {
     "duration": 0.01162,
     "end_time": "2024-01-29T19:01:07.293491",
     "exception": false,
     "start_time": "2024-01-29T19:01:07.281871",
     "status": "completed"
    },
    "tags": []
   },
   "source": [
    "\n",
    "1. **Initialization and Import:**\n",
    "   ```python\n",
    "   # Number of features\n",
    "   N = 4\n",
    "   ```\n",
    "   This sets the number of features to 4.\n",
    "\n",
    "2. **Feature Map Function:**\n",
    "   ```python\n",
    "   def feature_map(X):\n",
    "       q = QuantumRegister(N)\n",
    "       c = ClassicalRegister(1)\n",
    "       qc = QuantumCircuit(q, c)\n",
    "\n",
    "       for i, x in enumerate(X):\n",
    "           qc.rx(x, i)\n",
    "\n",
    "       return qc, c\n",
    "   ```\n",
    "   - `feature_map` function creates a quantum circuit (`qc`) for the feature map.\n",
    "   - It initializes quantum and classical registers (`q` and `c`).\n",
    "   - For each feature `x` in the input `X`, it applies a rotation gate (`rx`) on the corresponding qubit.\n",
    "\n",
    "3. **Variational Circuit Function:**\n",
    "   ```python\n",
    "   def variational_circuit(qc, theta):\n",
    "       for i in range(N - 1):\n",
    "           qc.cnot(i, i + 1)\n",
    "       qc.cnot(N - 1, 0)\n",
    "       for i in range(N):\n",
    "           qc.ry(theta[i], i)\n",
    "\n",
    "       return qc\n",
    "   ```\n",
    "   - `variational_circuit` function adds entangling gates (`cnot`) between adjacent qubits and one additional `cnot` for the last and first qubits to create entanglement.\n",
    "   - It then applies rotation gates (`ry`) based on the values in the `theta` array.\n",
    "\n",
    "4. **Quantum Neural Network Function:**\n",
    "   ```python\n",
    "   def quantum_nn(X, theta):\n",
    "       qc, c = feature_map(X)\n",
    "       qc = variational_circuit(qc, theta)\n",
    "       qc.measure(0, c)\n",
    "\n",
    "       shots = int(1E4)\n",
    "       backend = Aer.get_backend(\"qasm_simulator\")\n",
    "       job = qiskit.execute(qc, backend, shots=shots)\n",
    "       result = job.result()\n",
    "       counts = result.get_counts(qc)\n",
    "\n",
    "       return counts[\"1\"] / shots\n",
    "   ```\n",
    "   - `quantum_nn` function combines the feature map and variational circuit to form a quantum neural network.\n",
    "   - It measures the output qubit and performs the measurement `shots` times.\n",
    "   - It uses the Qiskit Aer simulator as the backend to execute the quantum circuit.\n",
    "   - The function returns the probability of measuring the output state as |1| after the specified number of shots.\n"
   ]
  },
  {
   "cell_type": "markdown",
   "id": "f6ee1734",
   "metadata": {
    "papermill": {
     "duration": 0.011549,
     "end_time": "2024-01-29T19:01:07.317035",
     "exception": false,
     "start_time": "2024-01-29T19:01:07.305486",
     "status": "completed"
    },
    "tags": []
   },
   "source": [
    "## **Implementing Gradient Descent for Training** "
   ]
  },
  {
   "cell_type": "code",
   "execution_count": 6,
   "id": "282b5323",
   "metadata": {
    "execution": {
     "iopub.execute_input": "2024-01-29T19:01:07.343560Z",
     "iopub.status.busy": "2024-01-29T19:01:07.343130Z",
     "iopub.status.idle": "2024-01-29T19:01:07.348314Z",
     "shell.execute_reply": "2024-01-29T19:01:07.347088Z"
    },
    "papermill": {
     "duration": 0.021503,
     "end_time": "2024-01-29T19:01:07.350662",
     "exception": false,
     "start_time": "2024-01-29T19:01:07.329159",
     "status": "completed"
    },
    "tags": []
   },
   "outputs": [],
   "source": [
    "def loss(prediction, target):\n",
    "      return (target - prediction)**2"
   ]
  },
  {
   "cell_type": "code",
   "execution_count": 7,
   "id": "f1308ba2",
   "metadata": {
    "execution": {
     "iopub.execute_input": "2024-01-29T19:01:07.376544Z",
     "iopub.status.busy": "2024-01-29T19:01:07.376135Z",
     "iopub.status.idle": "2024-01-29T19:01:07.384161Z",
     "shell.execute_reply": "2024-01-29T19:01:07.382900Z"
    },
    "papermill": {
     "duration": 0.023897,
     "end_time": "2024-01-29T19:01:07.386589",
     "exception": false,
     "start_time": "2024-01-29T19:01:07.362692",
     "status": "completed"
    },
    "tags": []
   },
   "outputs": [],
   "source": [
    "import copy\n",
    "\n",
    "def gradient(X, Y, theta):\n",
    "    #Compute the gradient of the quantum neural network loss with respect to each parameter in theta.\n",
    "\n",
    "    delta = 0.01  # Step size for finite differences\n",
    "    grad = []     # Initialize gradient vector\n",
    "    \n",
    "    # Compute partial derivatives for each parameter in theta\n",
    "    for i in range(len(theta)):\n",
    "        dtheta = copy.copy(theta)\n",
    "        dtheta[i] += delta\n",
    "\n",
    "        # Calculate predictions for perturbed and original theta values\n",
    "        pred1 = quantum_nn(X, dtheta)\n",
    "        pred2 = quantum_nn(X, theta)\n",
    "        \n",
    "        # Use finite differences to approximate the partial derivative\n",
    "        grad.append((loss(pred1, Y) - loss(pred2, Y)) / delta)\n",
    "\n",
    "    return np.array(grad)\n"
   ]
  },
  {
   "cell_type": "code",
   "execution_count": 8,
   "id": "e497caaf",
   "metadata": {
    "execution": {
     "iopub.execute_input": "2024-01-29T19:01:07.412836Z",
     "iopub.status.busy": "2024-01-29T19:01:07.412401Z",
     "iopub.status.idle": "2024-01-29T19:01:07.418810Z",
     "shell.execute_reply": "2024-01-29T19:01:07.417643Z"
    },
    "papermill": {
     "duration": 0.022682,
     "end_time": "2024-01-29T19:01:07.421367",
     "exception": false,
     "start_time": "2024-01-29T19:01:07.398685",
     "status": "completed"
    },
    "tags": []
   },
   "outputs": [],
   "source": [
    "def accuracy(X, Y, theta):\n",
    "\n",
    "      counter = 0\n",
    "      for X_i, Y_i in zip(X, Y):\n",
    "\n",
    "          prediction = quantum_nn(X_i, theta)\n",
    "\n",
    "          if prediction < 0.5 and Y_i == 0:\n",
    "               counter +=1\n",
    "          elif prediction >= 0.5 and Y_i == 1:\n",
    "               counter +=1\n",
    "      return counter/len(Y)"
   ]
  },
  {
   "cell_type": "code",
   "execution_count": 9,
   "id": "41410193",
   "metadata": {
    "execution": {
     "iopub.execute_input": "2024-01-29T19:01:07.447795Z",
     "iopub.status.busy": "2024-01-29T19:01:07.447342Z",
     "iopub.status.idle": "2024-01-29T19:09:25.026413Z",
     "shell.execute_reply": "2024-01-29T19:09:25.025163Z"
    },
    "papermill": {
     "duration": 497.610082,
     "end_time": "2024-01-29T19:09:25.043516",
     "exception": false,
     "start_time": "2024-01-29T19:01:07.433434",
     "status": "completed"
    },
    "tags": []
   },
   "outputs": [
    {
     "name": "stdout",
     "output_type": "stream",
     "text": [
      "Epoch \t Loss \t Training Accuracy\n"
     ]
    },
    {
     "name": "stderr",
     "output_type": "stream",
     "text": [
      "/tmp/ipykernel_18/3646526593.py:21: DeprecationWarning: The method ``qiskit.circuit.quantumcircuit.QuantumCircuit.cnot()`` is deprecated as of qiskit 0.45.0. It will be removed no earlier than 3 months after the release date. Use QuantumCircuit.cx as direct replacement.\n",
      "  qc.cnot(i, i + 1)\n",
      "/tmp/ipykernel_18/3646526593.py:22: DeprecationWarning: The method ``qiskit.circuit.quantumcircuit.QuantumCircuit.cnot()`` is deprecated as of qiskit 0.45.0. It will be removed no earlier than 3 months after the release date. Use QuantumCircuit.cx as direct replacement.\n",
      "  qc.cnot(N - 1, 0)\n"
     ]
    },
    {
     "name": "stdout",
     "output_type": "stream",
     "text": [
      "0 \t 0.259 \t 0.771\n",
      "1 \t 0.238 \t 0.743\n",
      "2 \t 0.237 \t 0.786\n",
      "3 \t 0.222 \t 0.757\n",
      "4 \t 0.222 \t 0.786\n",
      "5 \t 0.221 \t 0.743\n",
      "6 \t 0.214 \t 0.814\n",
      "7 \t 0.212 \t 0.771\n",
      "8 \t 0.212 \t 0.786\n",
      "9 \t 0.211 \t 0.800\n",
      "10 \t 0.211 \t 0.729\n",
      "11 \t 0.213 \t 0.786\n",
      "12 \t 0.211 \t 0.743\n",
      "13 \t 0.211 \t 0.800\n",
      "14 \t 0.209 \t 0.800\n",
      "15 \t 0.208 \t 0.771\n",
      "16 \t 0.209 \t 0.771\n",
      "17 \t 0.209 \t 0.800\n",
      "18 \t 0.209 \t 0.771\n",
      "19 \t 0.209 \t 0.800\n"
     ]
    }
   ],
   "source": [
    "eta = 0.05  # Learning rate\n",
    "loss_list = []  # List to store losses during training\n",
    "theta = np.ones(N)  # Initial parameter values\n",
    "\n",
    "print(\"Epoch \\t Loss \\t Training Accuracy\")\n",
    "\n",
    "# Training epochs\n",
    "for i in range(20):\n",
    "\n",
    "    loss_tmp = []  # Temporary list to store losses for each training sample\n",
    "\n",
    "    # Iterate over training samples\n",
    "    for X_i, Y_i in zip(X_train, Y_train):\n",
    "\n",
    "        # Calculate prediction and loss for the current sample\n",
    "        prediction = quantum_nn(X_i, theta)\n",
    "        loss_tmp.append(loss(prediction, Y_i))\n",
    "\n",
    "        # Update theta using gradient descent rule\n",
    "        theta = theta - eta * gradient(X_i, Y_i, theta)\n",
    "\n",
    "    # Calculate and store the mean loss for the epoch\n",
    "    loss_list.append(np.mean(loss_tmp))\n",
    "\n",
    "    # Calculate and print training accuracy for the epoch\n",
    "    acc = accuracy(X_train, Y_train, theta)\n",
    "    print(f\"{i} \\t {loss_list[-1]:.3f} \\t {acc:.3f}\")\n"
   ]
  },
  {
   "cell_type": "markdown",
   "id": "621492db",
   "metadata": {
    "papermill": {
     "duration": 0.014416,
     "end_time": "2024-01-29T19:09:25.072934",
     "exception": false,
     "start_time": "2024-01-29T19:09:25.058518",
     "status": "completed"
    },
    "tags": []
   },
   "source": [
    "## **Results :**"
   ]
  },
  {
   "cell_type": "code",
   "execution_count": 10,
   "id": "975197bf",
   "metadata": {
    "execution": {
     "iopub.execute_input": "2024-01-29T19:09:25.171379Z",
     "iopub.status.busy": "2024-01-29T19:09:25.170916Z",
     "iopub.status.idle": "2024-01-29T19:09:25.466713Z",
     "shell.execute_reply": "2024-01-29T19:09:25.465536Z"
    },
    "papermill": {
     "duration": 0.314569,
     "end_time": "2024-01-29T19:09:25.469422",
     "exception": false,
     "start_time": "2024-01-29T19:09:25.154853",
     "status": "completed"
    },
    "tags": []
   },
   "outputs": [
    {
     "data": {
      "image/png": "[encoded data removed]",
      "text/plain": [
       "<Figure size 640x480 with 1 Axes>"
      ]
     },
     "metadata": {},
     "output_type": "display_data"
    }
   ],
   "source": [
    "plt.plot(loss_list)\n",
    "plt.xlabel(\"Epoch\")\n",
    "plt.ylabel(\"Loss\")\n",
    "plt.show()"
   ]
  },
  {
   "cell_type": "code",
   "execution_count": 11,
   "id": "cd1b180a",
   "metadata": {
    "execution": {
     "iopub.execute_input": "2024-01-29T19:09:25.501508Z",
     "iopub.status.busy": "2024-01-29T19:09:25.501059Z",
     "iopub.status.idle": "2024-01-29T19:09:26.571217Z",
     "shell.execute_reply": "2024-01-29T19:09:26.569852Z"
    },
    "papermill": {
     "duration": 1.089889,
     "end_time": "2024-01-29T19:09:26.574354",
     "exception": false,
     "start_time": "2024-01-29T19:09:25.484465",
     "status": "completed"
    },
    "tags": []
   },
   "outputs": [
    {
     "name": "stderr",
     "output_type": "stream",
     "text": [
      "/tmp/ipykernel_18/3646526593.py:21: DeprecationWarning: The method ``qiskit.circuit.quantumcircuit.QuantumCircuit.cnot()`` is deprecated as of qiskit 0.45.0. It will be removed no earlier than 3 months after the release date. Use QuantumCircuit.cx as direct replacement.\n",
      "  qc.cnot(i, i + 1)\n",
      "/tmp/ipykernel_18/3646526593.py:22: DeprecationWarning: The method ``qiskit.circuit.quantumcircuit.QuantumCircuit.cnot()`` is deprecated as of qiskit 0.45.0. It will be removed no earlier than 3 months after the release date. Use QuantumCircuit.cx as direct replacement.\n",
      "  qc.cnot(N - 1, 0)\n"
     ]
    },
    {
     "data": {
      "text/plain": [
       "0.8333333333333334"
      ]
     },
     "execution_count": 11,
     "metadata": {},
     "output_type": "execute_result"
    }
   ],
   "source": [
    "accuracy(X_test, Y_test, theta)"
   ]
  },
  {
   "cell_type": "markdown",
   "id": "cda679b7",
   "metadata": {
    "papermill": {
     "duration": 0.015414,
     "end_time": "2024-01-29T19:09:26.605388",
     "exception": false,
     "start_time": "2024-01-29T19:09:26.589974",
     "status": "completed"
    },
    "tags": []
   },
   "source": [
    "We get some decent results but you may have the question that why it was taking so much time in training. This is mainly due to the fact that the training process is not optimized as it is implemented from scratch  and also it is **not running on a quantum computer** !!! If it was running we could expect less time in training and getting the results ."
   ]
  }
 ],
 "metadata": {
  "kaggle": {
   "accelerator": "none",
   "dataSources": [],
   "dockerImageVersionId": 30635,
   "isGpuEnabled": false,
   "isInternetEnabled": true,
   "language": "python",
   "sourceType": "notebook"
  },
  "kernelspec": {
   "display_name": "Python 3",
   "language": "python",
   "name": "python3"
  },
  "language_info": {
   "codemirror_mode": {
    "name": "ipython",
    "version": 3
   },
   "file_extension": ".py",
   "mimetype": "text/x-python",
   "name": "python",
   "nbconvert_exporter": "python",
   "pygments_lexer": "ipython3",
   "version": "3.10.12"
  },
  "papermill": {
   "default_parameters": {},
   "duration": 565.067296,
   "end_time": "2024-01-29T19:09:27.344669",
   "environment_variables": {},
   "exception": null,
   "input_path": "__notebook__.ipynb",
   "output_path": "__notebook__.ipynb",
   "parameters": {},
   "start_time": "2024-01-29T19:00:02.277373",
   "version": "2.4.0"
  }
 },
 "nbformat": 4,
 "nbformat_minor": 5
}
